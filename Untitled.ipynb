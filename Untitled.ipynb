{
 "cells": [
  {
   "cell_type": "code",
   "execution_count": 1,
   "metadata": {},
   "outputs": [],
   "source": [
    "import pandas as pd\n",
    "import datetime as dt"
   ]
  },
  {
   "cell_type": "code",
   "execution_count": 2,
   "metadata": {},
   "outputs": [],
   "source": [
    "#================================CREATING DATAFRAMES===============================\n",
    "nintendo_balance_sheet_data = pd.read_csv('Nintendo_Balance_Sheet.csv')\n",
    "nintendo_income_statement_data = pd.read_csv('Nintendo_Income_Statement.csv')\n",
    "nintendo_cash_flow_data = pd.read_csv('Nintendo_Cash_Flows.csv')\n",
    "nintendoIS = pd.DataFrame(nintendo_income_statement_data)\n",
    "nintendoBS = pd.DataFrame(nintendo_balance_sheet_data)\n",
    "nintendoCF = pd.DataFrame(nintendo_cash_flow_data)"
   ]
  },
  {
   "cell_type": "code",
   "execution_count": 3,
   "metadata": {},
   "outputs": [],
   "source": [
    "#================================INDEX LOCATIONS FOR ROWS AND COLUMNS===============\n",
    "rows_nintendoIS = list(nintendoIS.index)\n",
    "columns_nintendoIS = list(nintendoIS.columns)\n",
    "rows_nintendoBS = list(nintendoBS.index)\n",
    "columns_nintendoBS = list(nintendoBS.columns)\n",
    "rows_nintendoCF = list(nintendoCF.index)\n",
    "columns_nintendoCF = list(nintendoCF.columns)"
   ]
  },
  {
   "cell_type": "code",
   "execution_count": 4,
   "metadata": {},
   "outputs": [],
   "source": [
    "#DATA FRAME BY YEAR\n",
    "FY18 = '3/31/18'\n",
    "FY17 = '3/31/17'\n",
    "FY16 = '3/31/16'\n",
    "FY15 = '3/31/15'\n",
    "data_frame_columns = [FY18,FY17,FY16,FY15]"
   ]
  },
  {
   "cell_type": "code",
   "execution_count": 5,
   "metadata": {},
   "outputs": [],
   "source": [
    "#=================================CLEANING DATAFRAMES===============================\n",
    "#Cleaning Income Statement\n",
    "nintendoIS = nintendoBS.where(nintendoBS != '-', 0)\n",
    "nintendoIS = nintendoIS.apply(pd.to_numeric)\n",
    "\n",
    "#Cleaning Balance Sheet\n",
    "nintendoBS = nintendoBS.where(nintendoBS != '-', 0)\n",
    "nintendoBS = nintendoBS.apply(pd.to_numeric)\n",
    "\n",
    "#Cleaning Cash Flows\n",
    "nintendoCF = nintendoCF.where(nintendoCF != '-',0)\n",
    "nintendoCF = nintendoBS.apply(pd.to_numeric)"
   ]
  },
  {
   "cell_type": "code",
   "execution_count": 6,
   "metadata": {},
   "outputs": [],
   "source": [
    "#========================Ratio Lists=================================================\n",
    "dictionary_of_ratios = {\"Current Ratio\": [],\n",
    "                        \"Quick Ratio\" : [],\n",
    "                        \"Cash Ratio\" : [],\n",
    "                        \"Total Debt Ratio\" : [],\n",
    "                        \"Equity Multiplier\" : [],\n",
    "                        \"Debt-Equity Ratio\" : [],\n",
    "                        \"Times Interest Earned Ratio\" : [],\n",
    "                        \"Cash Coverage Ratio\" : [],\n",
    "                        #\"Inventory Turnover\": [],\n",
    "                        #\"Days Sales in Inventory\" : [],\n",
    "                       # \"Receivables Turnover\" : [],\n",
    "                       # \"Payables Turnover\" : [],\n",
    "                       # \"Days Sales in Receivables\" : [],\n",
    "                       # \"Days Costs in Payables\" : []\n",
    "                        }"
   ]
  },
  {
   "cell_type": "code",
   "execution_count": 7,
   "metadata": {},
   "outputs": [],
   "source": [
    "#========================COMMON FINANCIAL ANALYSIS RATIOS============================\n",
    "\n",
    "class common_financial_ratios():\n",
    "    def short_term_solvency(self,current_liabilities,current_assets,inventory,cash):\n",
    "        self.current_liabilities = current_liabilities\n",
    "        self.current_assets = current_assets\n",
    "        self.inventory = inventory\n",
    "        self.cash = cash\n",
    "        dictionary_of_ratios['Current Ratio'].append(round(self.current_assets / self.current_liabilities,2))\n",
    "        dictionary_of_ratios['Quick Ratio'].append(round((self.current_assets - self.inventory) / self.current_liabilities,2))\n",
    "        dictionary_of_ratios['Cash Ratio'].append(round(self.cash / self.current_liabilities,2))\n",
    "\n",
    "    def long_term_solvency(self,total_assets,total_equity,EBIT,interest,depreciation):\n",
    "        self.total_assets = total_assets\n",
    "        self.total_equity = total_equity\n",
    "        self.EBIT = EBIT\n",
    "        self.interest = interest\n",
    "        self.depreciation = depreciation\n",
    "        total_debt = self.total_assets - self.total_equity\n",
    "        dictionary_of_ratios['Total Debt Ratio'].append(round(total_debt / self.total_assets,2))\n",
    "        dictionary_of_ratios['Debt-Equity Ratio'].append(round(total_debt / self.total_equity,2))\n",
    "        dictionary_of_ratios['Equity Multiplier'].append(round(self.total_assets / self.total_equity,2))\n",
    "        dictionary_of_ratios['Times Interest Earned Ratio'].append(round(self.EBIT/self.interest,2))\n",
    "        dictionary_of_ratios['Cash Coverage Ratio'].append(round((self.EBIT + self.depreciation) / self.interest,2))\n",
    "\n",
    "    def asset_utilization(self,cost_of_goods_sold,inventory,sales,accounts_recievables,accounts_payable,total_assets):\n",
    "        days = 365\n",
    "        self.cost_of_goods_sold = cost_of_goods_sold\n",
    "        self.inventory = inventory\n",
    "        inventory_turnover = self.cost_of_goods_sold / self.inventory\n",
    "        dictionary_of_ratios['Inventory Turnover'].append(inventory_turnover)\n",
    "        dictionary_of_ratios['Days Sales in Inventory'].append(days / inventory_turnover)\n",
    "        dictionary\n",
    "        pass\n"
   ]
  },
  {
   "cell_type": "code",
   "execution_count": 8,
   "metadata": {},
   "outputs": [],
   "source": [
    "#====================FINANCIAL RATIO REQUESTS=======================================\n",
    "#INITIALIZING CLASS\n",
    "nintendo_analysis = common_financial_ratios()\n",
    "\n",
    "#SHORT TERM SOLVENCY\n",
    "for FY in data_frame_columns:\n",
    "    nintendo_analysis.short_term_solvency(nintendoBS[FY][17],nintendoBS[FY][5],nintendoBS[FY][3],nintendoBS[FY][0])\n",
    "#LONG TERM SOLVENCY\n",
    "for FY in data_frame_columns:\n",
    "    nintendo_analysis.long_term_solvency(nintendoBS[FY][13],nintendoBS[FY][32],nintendoIS[FY][10],nintendoIS[FY][11],nintendoCF[FY][0])\n",
    "\n",
    "#ASSET UTILIZATION\n",
    "#nintendo_analysis.asset_utilization(nintendoIS[FY18][1],nintendoBS[FY18][3])"
   ]
  },
  {
   "cell_type": "code",
   "execution_count": 9,
   "metadata": {},
   "outputs": [
    {
     "name": "stdout",
     "output_type": "stream",
     "text": [
      "                              FY18  FY17   FY16  FY15\n",
      "Current Ratio                 4.59   6.2  10.37  7.61\n",
      "Quick Ratio                   4.08  5.98   9.96  7.08\n",
      "Cash Ratio                    2.68   3.6    5.8  3.71\n",
      "Total Debt Ratio              0.19  0.15    0.1  0.14\n",
      "Debt-Equity Ratio             1.24  1.17   1.12  1.16\n",
      "Equity Multiplier             0.24  0.17   0.12  0.16\n",
      "Times Interest Earned Ratio      0     0      0     0\n",
      "Cash coverage Ratio          20.07  13.4  17.72  17.5\n",
      "Inventory Turnover             NaN   NaN    NaN   NaN\n",
      "Days Sales in Inventory        NaN   NaN    NaN   NaN\n",
      "Receivables Turnover           NaN   NaN    NaN   NaN\n",
      "Payables Turnover              NaN   NaN    NaN   NaN\n",
      "Days Sales in Receivables      NaN   NaN    NaN   NaN\n",
      "Days Costs in Payables         NaN   NaN    NaN   NaN\n",
      "Total Asset Turnover           NaN   NaN    NaN   NaN\n",
      "Capital Intensity              NaN   NaN    NaN   NaN\n",
      "Profit Margin                  NaN   NaN    NaN   NaN\n",
      "Return on Assets               NaN   NaN    NaN   NaN\n",
      "Return on Equity               NaN   NaN    NaN   NaN\n",
      "Price-Earnings Ratio           NaN   NaN    NaN   NaN\n",
      "Price-Sales Ratio              NaN   NaN    NaN   NaN\n",
      "Market-to-Book Ratio           NaN   NaN    NaN   NaN\n",
      "EBITDA Ratio                   NaN   NaN    NaN   NaN\n"
     ]
    }
   ],
   "source": [
    "#===================FINANCIAL RATIO DATAFRAME=======================================\n",
    "ratio_dataframe = pd.DataFrame(columns=[\"FY18\",\"FY17\",\"FY16\",\"FY15\"],index= [\"Current Ratio\",\"Quick Ratio\", \"Cash Ratio\",\"Total Debt Ratio\",\"Debt-Equity Ratio\",\"Equity Multiplier\",\n",
    "                                                                             \"Times Interest Earned Ratio\", \"Cash coverage Ratio\", \"Inventory Turnover\",\"Days Sales in Inventory\",\n",
    "                                                                             \"Receivables Turnover\",\"Payables Turnover\", \"Days Sales in Receivables\", \"Days Costs in Payables\",\n",
    "                                                                             \"Total Asset Turnover\",\"Capital Intensity\", \"Profit Margin\", \"Return on Assets\",\"Return on Equity\",\"Price-Earnings Ratio\"\n",
    "                                                                             , \"Price-Sales Ratio\",\"Market-to-Book Ratio\", \"EBITDA Ratio\"])\n",
    "#Dataframe Appending\n",
    "i = 0\n",
    "while i < len(dictionary_of_ratios):\n",
    "    for key in dictionary_of_ratios:\n",
    "        ratio_dataframe.iloc[i]=dictionary_of_ratios[key]\n",
    "        i+=1\n",
    "#HardCode Appendning\n",
    "\"\"\"\n",
    "ratio_dataframe.iloc[0] = dictionary_of_ratios['Current Ratio']\n",
    "ratio_dataframe.iloc[1] = dictionary_of_ratios['Quick Ratio']\n",
    "ratio_dataframe.iloc[2] = dictionary_of_ratios['Cash Ratio']\n",
    "\"\"\"\n",
    "print(ratio_dataframe)"
   ]
  },
  {
   "cell_type": "code",
   "execution_count": null,
   "metadata": {},
   "outputs": [],
   "source": []
  }
 ],
 "metadata": {
  "kernelspec": {
   "display_name": "Python 3",
   "language": "python",
   "name": "python3"
  },
  "language_info": {
   "codemirror_mode": {
    "name": "ipython",
    "version": 3
   },
   "file_extension": ".py",
   "mimetype": "text/x-python",
   "name": "python",
   "nbconvert_exporter": "python",
   "pygments_lexer": "ipython3",
   "version": "3.6.5"
  }
 },
 "nbformat": 4,
 "nbformat_minor": 2
}
